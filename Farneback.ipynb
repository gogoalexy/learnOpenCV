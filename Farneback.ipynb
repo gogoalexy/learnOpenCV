{
 "cells": [
  {
   "cell_type": "markdown",
   "metadata": {},
   "source": [
    "# Farnebäck Optical Flow Algorithm Tutorial"
   ]
  },
  {
   "cell_type": "markdown",
   "metadata": {},
   "source": [
    "The notebook will bring you going through the key processes in Farnebäck optical flow algorithm OpenCV implementation. I will try to explain them step by step and introduce the underlying mathematics simultaneously.\n",
    "In short, Farneback algorithm consists two major steps: first, polynomial expansion; second, displacement estimation."
   ]
  },
  {
   "cell_type": "markdown",
   "metadata": {},
   "source": [
    "## Polynomial Expansion\n",
    "Polynomial expansion approximates the neighborhood of each pixel for each frame as a quadratic polynomial. The polynomials are the basic representation of features in the algirithm. The basic form of quadratic polynomial is:\n",
    "$$f(\\mathbf{x}) \\sim \\mathbf{x}^T \\mathbf{A x} + \\mathbf{b}^T \\mathbf{x} + c$$\n"
   ]
  },
  {
   "cell_type": "markdown",
   "metadata": {},
   "source": [
    "### Normalized convolution"
   ]
  },
  {
   "cell_type": "markdown",
   "metadata": {},
   "source": [
    "## Displacement Estimation\n"
   ]
  },
  {
   "cell_type": "markdown",
   "metadata": {},
   "source": [
    "### Multi-scale displacement estimation"
   ]
  },
  {
   "cell_type": "markdown",
   "metadata": {},
   "source": [
    "## Remark: Gaussian Pyramid"
   ]
  }
 ],
 "metadata": {
  "kernelspec": {
   "display_name": "Python 3",
   "language": "python",
   "name": "python3"
  },
  "language_info": {
   "codemirror_mode": {
    "name": "ipython",
    "version": 3
   },
   "file_extension": ".py",
   "mimetype": "text/x-python",
   "name": "python",
   "nbconvert_exporter": "python",
   "pygments_lexer": "ipython3",
   "version": "3.8.0"
  }
 },
 "nbformat": 4,
 "nbformat_minor": 2
}
