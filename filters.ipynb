{
 "cells": [
  {
   "cell_type": "code",
   "execution_count": null,
   "metadata": {},
   "outputs": [],
   "source": [
    "import cv2\n",
    "import numpy as np\n",
    "from matplotlib import pyplot as plt\n",
    "\n",
    "img = cv2.imread(\"20190905_FINAL.png\")\n",
    "img = cv2.resize(img, (1000, 1000))\n",
    "display = cv2.resize(img, (500, 500))\n",
    "display = cv2.cvtColor(img, cv2.COLOR_BGR2RGB)\n",
    "\n",
    "fig = plt.figure(0)\n",
    "plt.imshow(display)"
   ]
  },
  {
   "cell_type": "code",
   "execution_count": null,
   "metadata": {},
   "outputs": [],
   "source": [
    "blur = cv2.blur(img, (64, 64))\n",
    "display = cv2.resize(blur, (500, 500))\n",
    "display = cv2.cvtColor(blur, cv2.COLOR_BGR2RGB)\n",
    "\n",
    "fig = plt.figure(1)\n",
    "plt.imshow(display)"
   ]
  },
  {
   "cell_type": "code",
   "execution_count": null,
   "metadata": {},
   "outputs": [],
   "source": [
    "box = cv2.boxFilter(img, -1, (64, 64))\n",
    "display = cv2.resize(box, (500, 500))\n",
    "display = cv2.cvtColor(box, cv2.COLOR_BGR2RGB)\n",
    "\n",
    "fig = plt.figure(1)\n",
    "plt.imshow(display)"
   ]
  },
  {
   "cell_type": "code",
   "execution_count": null,
   "metadata": {},
   "outputs": [],
   "source": [
    "sqrbox = cv2.sqrBoxFilter(img, -1, (64, 64))\n",
    "display = cv2.resize(sqrbox, (500, 500))\n",
    "display = cv2.cvtColor(sqrbox, cv2.COLOR_BGR2RGB)\n",
    "\n",
    "fig = plt.figure(1)\n",
    "plt.imshow(display)"
   ]
  },
  {
   "cell_type": "code",
   "execution_count": null,
   "metadata": {},
   "outputs": [],
   "source": [
    "median = cv2.medianBlur(img, 5)\n",
    "display = cv2.resize(median, (500, 500))\n",
    "display = cv2.cvtColor(median, cv2.COLOR_BGR2RGB)\n",
    "\n",
    "fig = plt.figure(1)\n",
    "plt.imshow(display)"
   ]
  },
  {
   "cell_type": "code",
   "execution_count": null,
   "metadata": {},
   "outputs": [],
   "source": [
    "gblur = cv2.GaussianBlur(img, (5, 5), 0)\n",
    "display = cv2.resize(gblur, (500, 500))\n",
    "display = cv2.cvtColor(gblur, cv2.COLOR_BGR2RGB)\n",
    "\n",
    "fig = plt.figure(1)\n",
    "plt.imshow(display)"
   ]
  },
  {
   "cell_type": "code",
   "execution_count": null,
   "metadata": {},
   "outputs": [],
   "source": [
    "bilateral = cv2.bilateralFilter(img, d=5, sigmaColor=250, sigmaSpace=250)\n",
    "display = cv2.resize(bilateral, (500, 500))\n",
    "display = cv2.cvtColor(bilateral, cv2.COLOR_BGR2RGB)\n",
    "\n",
    "fig = plt.figure(1)\n",
    "plt.imshow(display)"
   ]
  },
  {
   "cell_type": "code",
   "execution_count": null,
   "metadata": {},
   "outputs": [],
   "source": [
    "sobel = cv2.Sobel(img, -1, 1, 0)\n",
    "display = cv2.resize(sobel, (500, 500))\n",
    "display = cv2.cvtColor(sobel, cv2.COLOR_BGR2RGB)\n",
    "\n",
    "fig = plt.figure(1)\n",
    "plt.imshow(display)"
   ]
  },
  {
   "cell_type": "code",
   "execution_count": null,
   "metadata": {},
   "outputs": [],
   "source": [
    "scharr = cv2.Scharr(img, -1, 1, 0)\n",
    "display = cv2.resize(scharr, (500, 500))\n",
    "display = cv2.cvtColor(scharr, cv2.COLOR_BGR2RGB)\n",
    "\n",
    "fig = plt.figure(1)\n",
    "plt.imshow(display)"
   ]
  },
  {
   "cell_type": "code",
   "execution_count": null,
   "metadata": {},
   "outputs": [],
   "source": [
    "structkernel = np.ones((50, 50),np.uint8)\n",
    "\n",
    "dilated = cv2.dilate(img, structkernel)\n",
    "display = cv2.resize(dilated, (500, 500))\n",
    "display = cv2.cvtColor(dilated, cv2.COLOR_BGR2RGB)\n",
    "\n",
    "fig = plt.figure(1)\n",
    "plt.imshow(display)"
   ]
  },
  {
   "cell_type": "code",
   "execution_count": null,
   "metadata": {},
   "outputs": [],
   "source": [
    "eroded = cv2.erode(img, structkernel)\n",
    "display = cv2.resize(eroded, (500, 500))\n",
    "display = cv2.cvtColor(eroded, cv2.COLOR_BGR2RGB)\n",
    "\n",
    "fig = plt.figure(1)\n",
    "plt.imshow(display)"
   ]
  },
  {
   "cell_type": "code",
   "execution_count": null,
   "metadata": {},
   "outputs": [],
   "source": [
    "opening = cv2.morphologyEx(img, cv2.MORPH_OPEN, structkernel)\n",
    "display = cv2.resize(opening, (500, 500))\n",
    "display = cv2.cvtColor(opening, cv2.COLOR_BGR2RGB)\n",
    "\n",
    "fig = plt.figure(1)\n",
    "plt.imshow(display)"
   ]
  },
  {
   "cell_type": "code",
   "execution_count": null,
   "metadata": {},
   "outputs": [],
   "source": [
    "closing = cv2.morphologyEx(img, cv2.MORPH_CLOSE, structkernel)\n",
    "display = cv2.resize(closing, (500, 500))\n",
    "display = cv2.cvtColor(closing, cv2.COLOR_BGR2RGB)\n",
    "\n",
    "fig = plt.figure(1)\n",
    "plt.imshow(display)"
   ]
  },
  {
   "cell_type": "code",
   "execution_count": null,
   "metadata": {},
   "outputs": [],
   "source": [
    "tophat = cv2.morphologyEx(img, cv2.MORPH_TOPHAT, structkernel)\n",
    "display = cv2.resize(tophat, (500, 500))\n",
    "display = cv2.cvtColor(tophat, cv2.COLOR_BGR2RGB)\n",
    "\n",
    "fig = plt.figure(1)\n",
    "plt.imshow(display)"
   ]
  },
  {
   "cell_type": "code",
   "execution_count": null,
   "metadata": {},
   "outputs": [],
   "source": [
    "blackhat = cv2.morphologyEx(img, cv2.MORPH_BLACKHAT, structkernel)\n",
    "display = cv2.resize(blackhat, (500, 500))\n",
    "display = cv2.cvtColor(blackhat, cv2.COLOR_BGR2RGB)\n",
    "\n",
    "fig = plt.figure(1)\n",
    "plt.imshow(display)"
   ]
  },
  {
   "cell_type": "code",
   "execution_count": null,
   "metadata": {},
   "outputs": [],
   "source": [
    "pyrms = cv2.pyrMeanShiftFiltering(img, 32, 32)\n",
    "display = cv2.resize(pyrms, (500, 500))\n",
    "display = cv2.cvtColor(pyrms, cv2.COLOR_BGR2RGB)\n",
    "\n",
    "fig = plt.figure(1)\n",
    "plt.imshow(display)"
   ]
  },
  {
   "cell_type": "code",
   "execution_count": null,
   "metadata": {},
   "outputs": [],
   "source": []
  }
 ],
 "metadata": {
  "kernelspec": {
   "display_name": "Python 3",
   "language": "python",
   "name": "python3"
  },
  "language_info": {
   "codemirror_mode": {
    "name": "ipython",
    "version": 3
   },
   "file_extension": ".py",
   "mimetype": "text/x-python",
   "name": "python",
   "nbconvert_exporter": "python",
   "pygments_lexer": "ipython3",
   "version": "3.8.1"
  }
 },
 "nbformat": 4,
 "nbformat_minor": 2
}
