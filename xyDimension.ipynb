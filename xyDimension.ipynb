{
 "cells": [
  {
   "cell_type": "markdown",
   "metadata": {},
   "source": [
    "# Understand OpenCV's Confusing Coordinate System\n",
    "\n",
    "The trickiest concept in OpenCV in eyes is the image dimension and coordinate system. This is not my first time stuck by the weird definitions, so I decide to write it down anyway. Alright, first we have to import OpenCV and read a test image:"
   ]
  },
  {
   "cell_type": "code",
   "execution_count": null,
   "metadata": {},
   "outputs": [],
   "source": [
    "import cv2\n",
    "import numpy as np\n",
    "from matplotlib import pyplot as plt\n",
    "\n",
    "fig, ax = plt.subplots()\n",
    "image = cv2.imread(\"lenna_full.jpg\")\n",
    "print(\"Image dimension: height {} px, width {} px\".format(image.shape[0], image.shape[1]))\n",
    "show_img = cv2.cvtColor(image, cv2.COLOR_BGR2RGB)\n",
    "plt.imshow(show_img)\n",
    "ax.axis('off')\n",
    "plt.show()"
   ]
  },
  {
   "cell_type": "markdown",
   "metadata": {},
   "source": [
    "That'sa right, it's Lenna. In order to display the image properly in the notebook, we use `imshow()` function in matplotlib instead. In addition, there is a small but a little confusing definition here: the image array is represented in row-major-order, which follows the conventional matrix notation.\n",
    "Next, let's draw a line cross the image from the upper-left to the lower-right corner:"
   ]
  },
  {
   "cell_type": "code",
   "execution_count": null,
   "metadata": {},
   "outputs": [],
   "source": [
    "image = cv2.line(image, (10, 10), (400, 200), color=(255, 255, 10), thickness=3)\n",
    "show_img = cv2.cvtColor(image, cv2.COLOR_BGR2RGB)\n",
    "plt.imshow(show_img)\n",
    "plt.show()"
   ]
  },
  {
   "cell_type": "markdown",
   "metadata": {},
   "source": [
    "Intuitively, we may think the image locates at the first quadrant of the orthogonal coordinate system with the origin at the lower-left corner. However, we draw the line from point (10, 10) to (400, 200), and it is downward-slope which implies the origin, that is, (0, 0) locates at the upper-left corner and the positive direction of y-axis is pointing downward.\n",
    "\n",
    "        0/0----------> +x  \n",
    "         |  \n",
    "         |  \n",
    "        +y  \n",
    "         |  \n",
    "         v  \n",
    "\n",
    "In conclusion, to be compatible with general matrix operations, the image array in OpenCV is stored in a row-major way. On the other hand, the point notation takes the same origin point of the image array, and the y-axis is designed as image array compatible, i.e. if x=column and y=row, it denotes the same point. Furthermore, even the (x, y) value represents a vector rather than a single point; it still follows the same convention."
   ]
  }
 ],
 "metadata": {
  "kernelspec": {
   "display_name": "Python 3",
   "language": "python",
   "name": "python3"
  },
  "language_info": {
   "codemirror_mode": {
    "name": "ipython",
    "version": 3
   },
   "file_extension": ".py",
   "mimetype": "text/x-python",
   "name": "python",
   "nbconvert_exporter": "python",
   "pygments_lexer": "ipython3",
   "version": "3.7.4"
  }
 },
 "nbformat": 4,
 "nbformat_minor": 4
}
